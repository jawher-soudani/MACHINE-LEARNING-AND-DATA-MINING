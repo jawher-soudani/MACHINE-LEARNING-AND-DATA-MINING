{
 "cells": [
  {
   "cell_type": "markdown",
   "metadata": {},
   "source": [
    "<img src=\"https://upload.wikimedia.org/wikipedia/fr/thumb/d/d9/Logo_T%C3%A9l%C3%A9com_ParisTech.svg/1024px-Logo_T%C3%A9l%C3%A9com_ParisTech.svg.png\" alt=\"Smiley face\" height=\"62\" width=\"62\" style=\"float:right\">\n",
    "\n",
    "<h1 style=\"color:#C50347 ;text-align:center\">   SOUDANI Jawher TP2 <br><h3 style=\"color:#ceb13d\">MACHINE LEARNING AND DATA MINING 2017-2018</h3>\n",
    "<br>\n"
   ]
  },
  {
   "cell_type": "code",
   "execution_count": 465,
   "metadata": {
    "collapsed": true
   },
   "outputs": [],
   "source": [
    "import numpy as np\n",
    "from sklearn import datasets\n",
    "from sklearn.metrics import accuracy_score\n"
   ]
  },
  {
   "cell_type": "markdown",
   "metadata": {},
   "source": [
    "### Write a majority class classifier: a classifier that predicts the class label that is more frequent in the dataset"
   ]
  },
  {
   "cell_type": "code",
   "execution_count": 466,
   "metadata": {},
   "outputs": [],
   "source": [
    "class MajorityClassifier:\n",
    "    \n",
    "    def __init__(self):\n",
    "        self.prediction=None\n",
    "        \n",
    "        \n",
    "    def fit(self,X,Y):\n",
    "        \n",
    "        \"\"\"if there is more then one majority class (equal in number of instances)\n",
    "        the classifier will return it alphabetically  \"\"\"\n",
    "        \n",
    "        temp=np.unique(Y,return_counts=True)\n",
    "        self.prediction=temp[0][np.argmax(temp[1])]\n",
    "                         \n",
    "            \n",
    "    def predict(self,X):\n",
    "        return self.prediction*np.ones(len(X))\n",
    "        "
   ]
  },
  {
   "cell_type": "code",
   "execution_count": 467,
   "metadata": {
    "collapsed": true
   },
   "outputs": [],
   "source": [
    "mj=MajorityClassifier()"
   ]
  },
  {
   "cell_type": "code",
   "execution_count": 468,
   "metadata": {},
   "outputs": [],
   "source": [
    "X=np.array([[1,2],[2,3],[4,5],[4,6],[1,6],[5,9],[10,12],[12,5],[12,4],[12,9],[12,8],[12,7]])\n",
    "y=np.array([1,1,1,2,1,2,2,2,2,2,2,2])"
   ]
  },
  {
   "cell_type": "code",
   "execution_count": 469,
   "metadata": {},
   "outputs": [],
   "source": [
    "mj.fit(X[:-1],y[:-1])"
   ]
  },
  {
   "cell_type": "markdown",
   "metadata": {},
   "source": [
    "### Use the majority class classifier to evaluate one dataset, and justify why the evaluation results using the new classifier are correct"
   ]
  },
  {
   "cell_type": "code",
   "execution_count": 470,
   "metadata": {},
   "outputs": [
    {
     "name": "stdout",
     "output_type": "stream",
     "text": [
      "prediction is :  [ 2.] \n",
      "Prediction is right !! great\n"
     ]
    }
   ],
   "source": [
    "if mj.predict([X[-1]])==y[-1]:\n",
    "    print(\"prediction is : \" ,mj.predict([X[-1]]),\"\\nPrediction is right !! great\")"
   ]
  },
  {
   "cell_type": "markdown",
   "metadata": {},
   "source": [
    "* example to proove that this classifier is not sufficient and might even gives you 0% accuracy"
   ]
  },
  {
   "cell_type": "code",
   "execution_count": 471,
   "metadata": {},
   "outputs": [
    {
     "data": {
      "text/plain": [
       "(array([0, 1]), array([177, 305]))"
      ]
     },
     "execution_count": 471,
     "metadata": {},
     "output_type": "execute_result"
    }
   ],
   "source": [
    "d=datasets.load_breast_cancer()\n",
    "np.unique(d.target[18:500],return_counts=True)"
   ]
  },
  {
   "cell_type": "code",
   "execution_count": 472,
   "metadata": {},
   "outputs": [],
   "source": [
    "mj.fit(d.data[18:500],d.target[18:500])"
   ]
  },
  {
   "cell_type": "code",
   "execution_count": 473,
   "metadata": {},
   "outputs": [],
   "source": [
    "pred=mj.predict(d.data[:19])"
   ]
  },
  {
   "cell_type": "code",
   "execution_count": 474,
   "metadata": {},
   "outputs": [
    {
     "name": "stdout",
     "output_type": "stream",
     "text": [
      "0.0 %\n"
     ]
    }
   ],
   "source": [
    "print(accuracy_score(d.target[:19],pred)*100,\"%\")"
   ]
  },
  {
   "cell_type": "code",
   "execution_count": 475,
   "metadata": {
    "collapsed": true
   },
   "outputs": [],
   "source": [
    "pred2=mj.predict(d.data[-28:-8])"
   ]
  },
  {
   "cell_type": "code",
   "execution_count": 476,
   "metadata": {},
   "outputs": [
    {
     "name": "stdout",
     "output_type": "stream",
     "text": [
      "100.0 %\n"
     ]
    }
   ],
   "source": [
    "print(accuracy_score(d.target[-28:-8],pred2)*100,\"%\")"
   ]
  },
  {
   "cell_type": "markdown",
   "metadata": {},
   "source": [
    "* as we can see , the results depend on the test data , if the majority of the test classes are like the majority classes in the train data , it will give us good results otherwise it will give as very low score , it's  a stupid classifier"
   ]
  },
  {
   "cell_type": "markdown",
   "metadata": {},
   "source": [
    "### OPTIONAL: create another classifier with higher performance than the majority class classifier"
   ]
  },
  {
   "cell_type": "code",
   "execution_count": 487,
   "metadata": {
    "collapsed": true
   },
   "outputs": [],
   "source": [
    "X =np.array([[1,2],[9,25],[9,15],[9,9],[9,7], [2,3], [3,1],[2,2],[9,5],[9,6],[2,2],[10,1]])\n",
    "Y=np.array([1,2,2,2,1,1,1,2,2,1,2])"
   ]
  },
  {
   "cell_type": "code",
   "execution_count": 488,
   "metadata": {},
   "outputs": [],
   "source": [
    "class My_Knn_Classifier:\n",
    "    \n",
    "#classifier init \n",
    "    def __init__(self,k):\n",
    "        self.prediction=[]\n",
    "        self.k=k\n",
    "        self.X=None\n",
    "        self.Y=None\n",
    "        \n",
    "#classifier fit , here with knn it just verify data and fill the object attributes X and Y\n",
    "    def fit(self,X,Y):\n",
    "        if len(np.unique(Y)) >= self.k:\n",
    "            warnings.warn(\"K is set to a value less than total number of classes.\")\n",
    "        elif len(X)!=len(Y):\n",
    "            warnings.warn(\"X_train and y_train don't have the same length !!\")\n",
    "        else:\n",
    "            self.X=np.array(X)\n",
    "            self.Y=np.array(Y)\n",
    "            \n",
    "            \n",
    "#all the work is done here in predict  \n",
    "\n",
    "    def predict(self,Predict_table):\n",
    "\n",
    "        #simple verification for the dimesion\n",
    "        if len(Predict_table.shape) != len(self.X.shape):\n"1
    "            warnings.warn(\"shape of test data is not the same as shape of train data , try reshape or resize especially for prediction of only 1 test data \")\n",
    "      \n",
    "        #else do the prediction\n",
    "        else :\n",
    "            self.prediction=[]\n",
    "            #do this work for each test data in Predict_array (test data)\n",
    "            for predict in enumerate(Predict_table):\n",
    "                distances = []\n",
    "                votes=[]\n",
    "                i=0\n",
    "                while i<len(self.X):\n",
    "                    #make a table of distances to each train data to the test data\n",
    "                    euclidian_distance = np.linalg.norm(self.X[i]-np.array(predict[1]))\n",
    "                    distances.append([euclidian_distance, self.Y[i]])\n",
    "                    i+=1\n",
    "                #and than choose the k closest distances\n",
    "                votes = [i[1] for i in sorted(distances)[:self.k]]\n",
    "                #attribute the most commun class to this test data\n",
    "                self.prediction.append(Counter(votes).most_common(1)[0][0])\n",
    "\n",
    "            print (\"Prediction is done ! success\")\n",
    "        return self.prediction\n",
    "        "
   ]
  },
  {
   "cell_type": "code",
   "execution_count": 489,
   "metadata": {
    "collapsed": true
   },
   "outputs": [],
   "source": [
    "c = My_Knn_Classifier(3)"
   ]
  },
  {
   "cell_type": "code",
   "execution_count": 490,
   "metadata": {},
   "outputs": [],
   "source": [
    "c.fit(X[:5],Y[:5])"
   ]
  },
  {
   "cell_type": "code",
   "execution_count": 491,
   "metadata": {},
   "outputs": [
    {
     "name": "stderr",
     "output_type": "stream",
     "text": [
      "/home/djo/anaconda3/lib/python3.6/site-packages/ipykernel_launcher.py:27: UserWarning: shape of test data is not the same as shape of train data , try reshape or resize especially for prediction of 1 class \n"
     ]
    }
   ],
   "source": [
    "pred3=c.predict(X[6])"
   ]
  },
  {
   "cell_type": "markdown",
   "metadata": {},
   "source": [
    "* that why i put this warning , so the data should be the same size"
   ]
  },
  {
   "cell_type": "code",
   "execution_count": 492,
   "metadata": {},
   "outputs": [
    {
     "name": "stdout",
     "output_type": "stream",
     "text": [
      "Prediction is done ! success\n"
     ]
    }
   ],
   "source": [
    "pred3=c.predict(X[6].reshape(1,2))"
   ]
  },
  {
   "cell_type": "code",
   "execution_count": 493,
   "metadata": {},
   "outputs": [
    {
     "name": "stdout",
     "output_type": "stream",
     "text": [
      "prediction is :  [ True]\n"
     ]
    }
   ],
   "source": [
    "print(\"prediction is : \",pred3==Y[6])"
   ]
  },
  {
   "cell_type": "markdown",
   "metadata": {},
   "source": [
    "* for our small data it worked , but the data is so small that we can not evaluate our classifier , so I will try to test it on breast_cancer data"
   ]
  },
  {
   "cell_type": "code",
   "execution_count": 494,
   "metadata": {},
   "outputs": [],
   "source": [
    "c = My_Knn_Classifier(5)\n",
    "c.fit(d.data[:400],d.target[:400])"
   ]
  },
  {
   "cell_type": "code",
   "execution_count": 495,
   "metadata": {},
   "outputs": [
    {
     "name": "stdout",
     "output_type": "stream",
     "text": [
      "Prediction is done ! success\n"
     ]
    }
   ],
   "source": [
    "pred4=c.predict(d.data[401:420])"
   ]
  },
  {
   "cell_type": "code",
   "execution_count": 496,
   "metadata": {},
   "outputs": [
    {
     "name": "stdout",
     "output_type": "stream",
     "text": [
      "94.7368421053 %\n"
     ]
    }
   ],
   "source": [
    "print(accuracy_score(d.target[401:420],pred4)*100,\"%\")"
   ]
  },
  {
   "cell_type": "markdown",
   "metadata": {},
   "source": [
    "### it gave me amazing results !! "
   ]
  }
 ],
 "metadata": {
  "kernelspec": {
   "display_name": "Python 3",
   "language": "python",
   "name": "python3"
  },
  "language_info": {
   "codemirror_mode": {
    "name": "ipython",
    "version": 3
   },
   "file_extension": ".py",
   "mimetype": "text/x-python",
   "name": "python",
   "nbconvert_exporter": "python",
   "pygments_lexer": "ipython3",
   "version": "3.6.2"
  }
 },
 "nbformat": 4,
 "nbformat_minor": 2
}
